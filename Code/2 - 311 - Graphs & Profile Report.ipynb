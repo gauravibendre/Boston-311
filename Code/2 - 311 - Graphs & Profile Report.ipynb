{
 "cells": [
  {
   "cell_type": "code",
   "execution_count": null,
   "id": "e17dbe6e",
   "metadata": {},
   "outputs": [],
   "source": [
    "#Import necessary libraries\n",
    "import pandas as pd\n",
    "import matplotlib.pyplot as plt\n",
    "import seaborn as sns\n",
    "\n",
    "#pip install pandas_profiling\n",
    "#package produces an interactive set of tables and visualizations for exploratory data exploration(EDA)\n",
    "from pandas_profiling import ProfileReport\n",
    "\n",
    "pd.options.mode.chained_assignment = None  # default='warn' #To ignore the default warnings"
   ]
  },
  {
   "cell_type": "code",
   "execution_count": null,
   "id": "252a5dc9",
   "metadata": {},
   "outputs": [],
   "source": [
    "#Read the csv into df called data\n",
    "\n",
    "data=pd.read_csv('Data_311.csv')"
   ]
  },
  {
   "cell_type": "markdown",
   "id": "0a2667c7",
   "metadata": {},
   "source": [
    "### Refining the case_enquiry_id column values to helpus uniquely identify the records."
   ]
  },
  {
   "cell_type": "code",
   "execution_count": null,
   "id": "e4a3184d",
   "metadata": {
    "scrolled": true
   },
   "outputs": [],
   "source": [
    "data['case_enquiry_id'] = data.reset_index().index + 1\n",
    "data.head()"
   ]
  },
  {
   "cell_type": "markdown",
   "id": "8482e395",
   "metadata": {},
   "source": [
    "### Splitting timestamp column to separate date and time columns "
   ]
  },
  {
   "cell_type": "code",
   "execution_count": null,
   "id": "7fceeade",
   "metadata": {},
   "outputs": [],
   "source": [
    "data['open_date'] = pd.to_datetime(data['open_dt']).dt.date\n",
    "data['open_time'] = pd.to_datetime(data['open_dt']).dt.time\n",
    "data['target_date'] = pd.to_datetime(data['target_dt']).dt.date\n",
    "data['target_time'] = pd.to_datetime(data['target_dt']).dt.time\n",
    "data['closure_date'] = pd.to_datetime(data['closed_dt']).dt.date\n",
    "data['closure_time'] = pd.to_datetime(data['closed_dt']).dt.time"
   ]
  },
  {
   "cell_type": "code",
   "execution_count": null,
   "id": "afeb3b1e",
   "metadata": {},
   "outputs": [],
   "source": [
    "profile_CA = ProfileReport(df, title = \"311 Data Profile\")\n",
    "profile_CA.to_file(\"311_profile_report.html\")"
   ]
  },
  {
   "cell_type": "markdown",
   "id": "9239d31a",
   "metadata": {},
   "source": [
    "# Graph 1: Case Status Analysis"
   ]
  },
  {
   "cell_type": "code",
   "execution_count": null,
   "id": "430f5832",
   "metadata": {},
   "outputs": [],
   "source": [
    "plt.figure(figsize=(10,6))\n",
    "ax = data['case_status'].value_counts(normalize=True).plot(kind='bar', color=['orange', 'blue']) # specify bar colors and normalize data\n",
    "plt.title('Case Status Analysis')\n",
    "plt.xlabel('Open/Closed')\n",
    "plt.ylabel('% of cases')\n",
    "plt.xticks(rotation=0)\n",
    "\n",
    "# add percentage labels to bars\n",
    "for p in ax.patches:\n",
    "    ax.annotate('{:.2f}%'.format(p.get_height()*100), (p.get_x()+0.2, p.get_height()+0.01))\n",
    "\n",
    "plt.show()\n"
   ]
  },
  {
   "cell_type": "markdown",
   "id": "b31c2a49",
   "metadata": {},
   "source": [
    "# Graph 2: Case Resolution Analysis\n"
   ]
  },
  {
   "cell_type": "code",
   "execution_count": null,
   "id": "baf1a980",
   "metadata": {},
   "outputs": [],
   "source": [
    "plt.figure(figsize=(10,6))\n",
    "ax = data['ontime'].value_counts(normalize=True).plot(kind='bar', color=['orange', 'blue']) # specify bar colors and normalize data\n",
    "plt.title('Case Resolution Analysis')\n",
    "plt.xlabel('Ontime/Overdue')\n",
    "plt.ylabel('% of cases closed')\n",
    "plt.xticks(rotation=0)\n",
    "\n",
    "# add percentage labels to bars\n",
    "for p in ax.patches:\n",
    "    ax.annotate('{:.2f}%'.format(p.get_height()*100), (p.get_x()+0.2, p.get_height()+0.01))\n",
    "\n",
    "plt.show()\n"
   ]
  },
  {
   "cell_type": "markdown",
   "id": "f9df067f",
   "metadata": {},
   "source": [
    "# Graph 3: Complain Frequency over the year 2022"
   ]
  },
  {
   "cell_type": "code",
   "execution_count": null,
   "id": "6a677e04",
   "metadata": {},
   "outputs": [],
   "source": [
    "\n",
    "plt.figure(figsize=(10,6))\n",
    "data.groupby('open_date')['case_title'].count().plot()\n",
    "plt.title('Complain frequency over the months')\n",
    "plt.xlabel('Date')\n",
    "plt.ylabel('Number of complaints')\n",
    "plt.show()\n"
   ]
  },
  {
   "cell_type": "code",
   "execution_count": null,
   "id": "c663dec8",
   "metadata": {},
   "outputs": [],
   "source": [
    "plt.figure(figsize=(10,6))\n",
    "data.groupby('open_date')['case_title'].count().plot()\n",
    "plt.title('Complain frequency over the months')\n",
    "plt.xlabel('Date')\n",
    "plt.ylabel('Number of complaints')\n",
    "plt.show()"
   ]
  },
  {
   "cell_type": "markdown",
   "id": "ab2606d3",
   "metadata": {},
   "source": [
    "## Graph 4"
   ]
  },
  {
   "cell_type": "code",
   "execution_count": null,
   "id": "668e08c4",
   "metadata": {},
   "outputs": [],
   "source": [
    "plt.figure(figsize=(10,6))\n",
    "plt.scatter(data['longitude'], data['latitude'])\n",
    "plt.title('Location of complaints')\n",
    "plt.xlabel('Longitude')\n",
    "plt.ylabel('Latitude')\n",
    "plt.show()\n"
   ]
  },
  {
   "cell_type": "markdown",
   "id": "756aa3f7",
   "metadata": {},
   "source": [
    "# Load the cleaned csv"
   ]
  },
  {
   "cell_type": "code",
   "execution_count": null,
   "id": "d89bf353",
   "metadata": {},
   "outputs": [],
   "source": [
    "data1=pd.read_csv('311_2022_Cleaned.csv')"
   ]
  },
  {
   "cell_type": "markdown",
   "id": "d46313a2",
   "metadata": {},
   "source": [
    "# Correlation Matrix"
   ]
  },
  {
   "cell_type": "code",
   "execution_count": null,
   "id": "d25567dd",
   "metadata": {},
   "outputs": [],
   "source": [
    "# Create correlation matrix\n",
    "corr = data1.corr()\n",
    "\n",
    "# Create heatmap of correlation matrix\n",
    "plt.figure(figsize=(10,6))\n",
    "sns.heatmap(corr, cmap='Blues', annot=True, linewidths=0.5)\n",
    "plt.title('Correlation Matrix Heatmap')\n",
    "plt.show()\n"
   ]
  },
  {
   "cell_type": "markdown",
   "id": "0616aed9",
   "metadata": {},
   "source": [
    "## Graph 5"
   ]
  },
  {
   "cell_type": "code",
   "execution_count": null,
   "id": "44f32fc6",
   "metadata": {},
   "outputs": [],
   "source": [
    "plt.figure(figsize=(10,6))\n",
    "complaints_by_dept = data1.groupby(['dept_responsible'])['case_title'].count().sort_values(ascending=False)\n",
    "complaints_by_dept.plot(kind='bar', stacked=True)\n",
    "plt.title('Number of complaints by department responsible')\n",
    "plt.xlabel('Department')\n",
    "plt.ylabel('Number of complaints')\n",
    "plt.show()\n"
   ]
  },
  {
   "cell_type": "code",
   "execution_count": null,
   "id": "8c61a852",
   "metadata": {},
   "outputs": [],
   "source": [
    "data_season = data1"
   ]
  },
  {
   "cell_type": "markdown",
   "id": "b4047ae3",
   "metadata": {},
   "source": [
    "### Creating a new column Season and categorizing ech records in either of the values based on 'open_date'"
   ]
  },
  {
   "cell_type": "code",
   "execution_count": null,
   "id": "8b60ee24",
   "metadata": {},
   "outputs": [],
   "source": [
    "import pandas as pd\n",
    "\n",
    "# Convert the 'open_dt' column to a datetime object\n",
    "data_season['open_date'] = pd.to_datetime(data_season['open_date'])\n",
    "\n",
    "# Create a dictionary mapping each season to its start and end dates\n",
    "seasons = {\n",
    "    'Winter': {'start': pd.to_datetime('2022-01-01'), 'end': pd.to_datetime('2022-03-19')},\n",
    "    'Spring': {'start': pd.to_datetime('2022-03-20'), 'end': pd.to_datetime('2022-06-20')},\n",
    "    'Summer': {'start': pd.to_datetime('2022-06-21'), 'end': pd.to_datetime('2022-09-22')},\n",
    "    'Fall': {'start': pd.to_datetime('2022-09-23'), 'end': pd.to_datetime('2022-12-31')}\n",
    "}\n",
    "\n",
    "# Define a function to assign the season based on the start date\n",
    "def assign_season(row):\n",
    "    for season, dates in seasons.items():\n",
    "        if row['open_date'] >= dates['start'] and row['open_date'] <= dates['end']:\n",
    "            return season\n",
    "\n",
    "# Create a new column 'season' using the assign_season function\n",
    "data_season['season'] = data_season.apply(assign_season, axis=1)\n"
   ]
  },
  {
   "cell_type": "markdown",
   "id": "09c713a3",
   "metadata": {},
   "source": [
    "# Graph 6: Top 5 Complains per season\n"
   ]
  },
  {
   "cell_type": "code",
   "execution_count": null,
   "id": "9b883036",
   "metadata": {},
   "outputs": [],
   "source": [
    "season_team_responsible = data_season.groupby(['season', 'team_responsible']).size().unstack()\n",
    "\n",
    "# Sort the values in descending order based on the sum of each column\n",
    "season_team_responsible = season_team_responsible.loc[:, season_team_responsible.sum().sort_values(ascending=False).index]\n",
    "\n",
    "# Select only the top 5 rows\n",
    "season_team_responsible = season_team_responsible.iloc[:5]\n",
    "\n",
    "# Select only the top 5 complaints for each season\n",
    "top_complaints = season_team_responsible.apply(lambda x: x.sort_values(ascending=False).head(5), axis=1)\n",
    "\n",
    "# Plot the graph\n",
    "top_complaints.plot(kind='bar', stacked=True)\n",
    "plt.xlabel('Season')\n",
    "plt.ylabel('Frequency')\n",
    "plt.title('Top 5 Complaint Frequencies by Season for Each Team')\n",
    "plt.legend(title='Teams Responsible')\n",
    "plt.show()\n"
   ]
  }
 ],
 "metadata": {
  "kernelspec": {
   "display_name": "Python 3 (ipykernel)",
   "language": "python",
   "name": "python3"
  },
  "language_info": {
   "codemirror_mode": {
    "name": "ipython",
    "version": 3
   },
   "file_extension": ".py",
   "mimetype": "text/x-python",
   "name": "python",
   "nbconvert_exporter": "python",
   "pygments_lexer": "ipython3",
   "version": "3.9.16"
  }
 },
 "nbformat": 4,
 "nbformat_minor": 5
}
